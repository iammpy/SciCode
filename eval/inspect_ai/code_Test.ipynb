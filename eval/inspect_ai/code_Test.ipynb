{
 "cells": [
  {
   "cell_type": "code",
   "execution_count": 49,
   "id": "2be1d745",
   "metadata": {},
   "outputs": [],
   "source": [
    "import numpy as np\n",
    "\n",
    "\n",
    "\n",
    "# Background: The form factor for Coulomb interactions in a layered electron gas (LEG) accounts for direct and image charge contributions. The semi-infinite LEG (dielectric ε) interfaces with vacuum at z=0. Each layer l is at z = l*d. The Fourier-transformed potential includes terms from the direct interaction (decaying with |z-z'|) and image interactions (decaying with z+z'), scaled by (ε-1)/(ε+1) for single images and ((ε-1)/(ε+1))² for image-image interactions.\n",
    "\n",
    "\n",
    "def f_V(q, d, bg_eps, l1, l2):\n",
    "    alpha = (bg_eps - 1) / (bg_eps + 1)\n",
    "    term1 = (1 + alpha**2) * np.exp(-q * d * abs(l1 - l2))\n",
    "    term2 = 2 * alpha * np.exp(-q * d * (l1 + l2))\n",
    "    form_factor = term1 + term2\n",
    "    return form_factor\n"
   ]
  },
  {
   "cell_type": "code",
   "execution_count": 50,
   "id": "574ed23b",
   "metadata": {},
   "outputs": [],
   "source": [
    "Target: 0.27623689443316446\n"
   ]
  },
  {
   "cell_type": "code",
   "execution_count": 54,
   "id": "30e2d255",
   "metadata": {},
   "outputs": [
    {
     "data": {
      "text/plain": [
       "np.float64(0.5132912506488587)"
      ]
     },
     "execution_count": 54,
     "metadata": {},
     "output_type": "execute_result"
    }
   ],
   "source": [
    "n_eff = 7.3*10**11 *10**-16   ###unit: A^-2\n",
    "k_F = np.sqrt(2*np.pi*n_eff)   ###unit: A-1\n",
    "d = 890   ### unit: A\n",
    "bg_eps = 13.1\n",
    "q = 0.05 * k_F\n",
    "l1 = 0\n",
    "l2 = 2\n",
    "f_V(q,d,bg_eps,l1,l2)\n"
   ]
  },
  {
   "cell_type": "code",
   "execution_count": null,
   "id": "f2102863",
   "metadata": {},
   "outputs": [],
   "source": []
  }
 ],
 "metadata": {
  "kernelspec": {
   "display_name": "d2l",
   "language": "python",
   "name": "python3"
  },
  "language_info": {
   "codemirror_mode": {
    "name": "ipython",
    "version": 3
   },
   "file_extension": ".py",
   "mimetype": "text/x-python",
   "name": "python",
   "nbconvert_exporter": "python",
   "pygments_lexer": "ipython3",
   "version": "3.10.16"
  }
 },
 "nbformat": 4,
 "nbformat_minor": 5
}
